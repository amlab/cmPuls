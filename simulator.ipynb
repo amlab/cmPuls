{
  "nbformat": 4,
  "nbformat_minor": 0,
  "metadata": {
    "colab": {
      "name": "Untitled1.ipynb",
      "provenance": [],
      "authorship_tag": "ABX9TyPxVtbcY2PF0NL0j4WIzn+F",
      "include_colab_link": true
    },
    "kernelspec": {
      "name": "python3",
      "display_name": "Python 3"
    },
    "language_info": {
      "name": "python"
    }
  },
  "cells": [
    {
      "cell_type": "markdown",
      "metadata": {
        "id": "view-in-github",
        "colab_type": "text"
      },
      "source": [
        "<a href=\"https://colab.research.google.com/github/amlab/cmPuls/blob/master/simulator.ipynb\" target=\"_parent\"><img src=\"https://colab.research.google.com/assets/colab-badge.svg\" alt=\"Open In Colab\"/></a>"
      ]
    },
    {
      "cell_type": "code",
      "metadata": {
        "id": "j8X5JH97gwmi"
      },
      "source": [
        "from skimage import io\n",
        "import numpy as np\n",
        "import math \n",
        "\n",
        "imSize = [1000,128,128]\n",
        "bgMean = 15000\n",
        "bgScale = 3000\n",
        "\n",
        "msk = np.full((imSize[1],imSize[2]), False, dtype=bool)\n",
        "for i in range(0,imSize[1]):\n",
        "    for j in range(0,imSize[1]):\n",
        "        msk[i,j]= ((i-60)**2+(j-60)**2<100)\n",
        "\n",
        "im = np.random.normal(loc=bgMean, scale=bgScale, size=imSize).astype(np.uint16)\n",
        "for i in range(0, im.shape[0]):\n",
        "    im[i,:,:]=np.ma.filled(np.ma.array(im[i,:,:], mask=msk), im[i,:,:]+10000*math.sin(i/10)**2)\n",
        "\n",
        "#io.imsave(r'C:\\RESEARCH\\HuySan\\SECONDTEST\\Rotenone 1 000012_simulation.tif', im2)\n",
        "\n"
      ],
      "execution_count": 2,
      "outputs": []
    }
  ]
}