{
  "nbformat": 4,
  "nbformat_minor": 0,
  "metadata": {
    "colab": {
      "name": "Untitled1.ipynb",
      "provenance": [],
      "authorship_tag": "ABX9TyPFSROvefrWxsXTTCpxmOQL",
      "include_colab_link": true
    },
    "kernelspec": {
      "name": "python3",
      "display_name": "Python 3"
    },
    "language_info": {
      "name": "python"
    }
  },
  "cells": [
    {
      "cell_type": "markdown",
      "metadata": {
        "id": "view-in-github",
        "colab_type": "text"
      },
      "source": [
        "<a href=\"https://colab.research.google.com/github/amlab/cmPuls/blob/master/simulator.ipynb\" target=\"_parent\"><img src=\"https://colab.research.google.com/assets/colab-badge.svg\" alt=\"Open In Colab\"/></a>"
      ]
    },
    {
      "cell_type": "code",
      "metadata": {
        "id": "j8X5JH97gwmi"
      },
      "source": [
        "#@title Time-lapse images simulator\n",
        "\n",
        "from skimage import io\n",
        "import numpy as np\n",
        "import math \n",
        "\n",
        "Frame_numbers = 1000 #@param {type:\"integer\"}\n",
        "Image_height = 128 #@param {type:\"integer\"}\n",
        "Image_width = 128 #@param {type:\"integer\"}\n",
        "Background_mean = 15000 #@param {type:\"integer\"}\n",
        "Background_scale = 3000 #@param {type:\"integer\"}\n",
        "\n",
        "msk = np.full((imSize[1],imSize[2]), False, dtype=bool)\n",
        "for i in range(0,imSize[1]):\n",
        "    for j in range(0,imSize[1]):\n",
        "        msk[i,j]= ((i-60)**2+(j-60)**2<100)\n",
        "\n",
        "im = np.random.normal(loc=bgMean, scale=bgScale, size=imSize).astype(np.uint16)\n",
        "for i in range(0, im.shape[0]):\n",
        "    im[i,:,:]=np.ma.filled(np.ma.array(im[i,:,:], mask=msk), im[i,:,:]+10000*math.sin(i/10)**2)\n",
        "\n",
        "io.imsave('simulation.tif', im)\n",
        "from google.colab import files\n",
        "files.download('simulation.tif')\n"
      ],
      "execution_count": 2,
      "outputs": []
    }
  ]
}